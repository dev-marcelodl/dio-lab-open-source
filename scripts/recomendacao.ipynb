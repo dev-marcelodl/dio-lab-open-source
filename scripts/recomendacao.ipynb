{
  "nbformat": 4,
  "nbformat_minor": 0,
  "metadata": {
    "colab": {
      "provenance": []
    },
    "kernelspec": {
      "name": "python3",
      "display_name": "Python 3"
    },
    "language_info": {
      "name": "python"
    }
  },
  "cells": [
    {
      "cell_type": "code",
      "source": [
        "!cd dataset\n",
        "!unzip dataset.zip -d dataset"
      ],
      "metadata": {
        "colab": {
          "base_uri": "https://localhost:8080/"
        },
        "id": "ku6UOVn-mXXM",
        "outputId": "3b0f281c-72b6-442a-c16b-8940b77d5c55"
      },
      "execution_count": 12,
      "outputs": [
        {
          "output_type": "stream",
          "name": "stdout",
          "text": [
            "Archive:  dataset.zip\n",
            "replace dataset/bolsa/20385.jpg? [y]es, [n]o, [A]ll, [N]one, [r]ename: A\n",
            "  inflating: dataset/bolsa/20385.jpg  \n",
            "  inflating: dataset/bolsa/20386.jpg  \n",
            "  inflating: dataset/bolsa/20387.jpg  \n",
            "  inflating: dataset/bolsa/20388.jpg  \n",
            "  inflating: dataset/bolsa/20389.jpg  \n",
            "  inflating: dataset/bolsa/20393.jpg  \n",
            "  inflating: dataset/bolsa/20394.jpg  \n",
            "  inflating: dataset/bolsa/20397.jpg  \n",
            "  inflating: dataset/bolsa/20398.jpg  \n",
            "  inflating: dataset/bolsa/20399.jpg  \n",
            "  inflating: dataset/bolsa/20410.jpg  \n",
            "  inflating: dataset/bolsa/20419.jpg  \n",
            "  inflating: dataset/bolsa/20420.jpg  \n",
            "  inflating: dataset/bolsa/20421.jpg  \n",
            "  inflating: dataset/bolsa/20452.jpg  \n",
            "  inflating: dataset/bolsa/20479.jpg  \n",
            "  inflating: dataset/bolsa/20487.jpg  \n",
            "  inflating: dataset/bolsa/20488.jpg  \n",
            "  inflating: dataset/bolsa/20489.jpg  \n",
            "  inflating: dataset/bolsa/20490.jpg  \n",
            "  inflating: dataset/bolsa/20491.jpg  \n",
            "  inflating: dataset/bolsa/20492.jpg  \n",
            "  inflating: dataset/bolsa/20493.jpg  \n",
            "  inflating: dataset/bolsa/20498.jpg  \n",
            "  inflating: dataset/bolsa/20501.jpg  \n",
            "  inflating: dataset/bolsa/20505.jpg  \n",
            "  inflating: dataset/bolsa/20506.jpg  \n",
            "  inflating: dataset/bolsa/20507.jpg  \n",
            "  inflating: dataset/bolsa/20508.jpg  \n",
            "  inflating: dataset/bolsa/20509.jpg  \n",
            "  inflating: dataset/bolsa/20511.jpg  \n",
            "  inflating: dataset/bolsa/20512.jpg  \n",
            "  inflating: dataset/bolsa/20516.jpg  \n",
            "  inflating: dataset/bolsa/20517.jpg  \n",
            "  inflating: dataset/bolsa/20518.jpg  \n",
            "  inflating: dataset/bolsa/20521.jpg  \n",
            "  inflating: dataset/bolsa/20522.jpg  \n",
            "  inflating: dataset/bolsa/20523.jpg  \n",
            "  inflating: dataset/bolsa/20524.jpg  \n",
            "  inflating: dataset/bolsa/20528.jpg  \n",
            "  inflating: dataset/bolsa/20557.jpg  \n",
            "  inflating: dataset/bolsa/20566.jpg  \n",
            "  inflating: dataset/bolsa/20567.jpg  \n",
            "  inflating: dataset/bolsa/20568.jpg  \n",
            "  inflating: dataset/bolsa/20581.jpg  \n",
            "  inflating: dataset/bolsa/20599.jpg  \n",
            "  inflating: dataset/bolsa/20600.jpg  \n",
            "  inflating: dataset/bolsa/20601.jpg  \n",
            "  inflating: dataset/bolsa/20602.jpg  \n",
            "  inflating: dataset/bolsa/20610.jpg  \n",
            "  inflating: dataset/bolsa/20611.jpg  \n",
            "  inflating: dataset/bolsa/20612.jpg  \n",
            "  inflating: dataset/bolsa/20613.jpg  \n",
            "  inflating: dataset/bolsa/20614.jpg  \n",
            "  inflating: dataset/bolsa/20615.jpg  \n",
            "  inflating: dataset/bolsa/20616.jpg  \n",
            "  inflating: dataset/bolsa/20619.jpg  \n",
            "  inflating: dataset/bolsa/20620.jpg  \n",
            "  inflating: dataset/bolsa/20621.jpg  \n",
            "  inflating: dataset/bolsa/20629.jpg  \n",
            "  inflating: dataset/calcado/2367.jpg  \n",
            "  inflating: dataset/calcado/2368.jpg  \n",
            "  inflating: dataset/calcado/2369.jpg  \n",
            "  inflating: dataset/calcado/2370.jpg  \n",
            "  inflating: dataset/calcado/2371.jpg  \n",
            "  inflating: dataset/calcado/2372.jpg  \n",
            "  inflating: dataset/calcado/2373.jpg  \n",
            "  inflating: dataset/calcado/2374.jpg  \n",
            "  inflating: dataset/calcado/2375.jpg  \n",
            "  inflating: dataset/calcado/2376.jpg  \n",
            "  inflating: dataset/calcado/2377.jpg  \n",
            "  inflating: dataset/calcado/2378.jpg  \n",
            "  inflating: dataset/calcado/2379.jpg  \n",
            "  inflating: dataset/calcado/2380.jpg  \n",
            "  inflating: dataset/calcado/2381.jpg  \n",
            "  inflating: dataset/calcado/2382.jpg  \n",
            "  inflating: dataset/calcado/2383.jpg  \n",
            "  inflating: dataset/calcado/2384.jpg  \n",
            "  inflating: dataset/calcado/2385.jpg  \n",
            "  inflating: dataset/calcado/2387.jpg  \n",
            "  inflating: dataset/calcado/2388.jpg  \n",
            "  inflating: dataset/calcado/2389.jpg  \n",
            "  inflating: dataset/calcado/2390.jpg  \n",
            "  inflating: dataset/calcado/2391.jpg  \n",
            "  inflating: dataset/calcado/2393.jpg  \n",
            "  inflating: dataset/calcado/2394.jpg  \n",
            "  inflating: dataset/calcado/2396.jpg  \n",
            "  inflating: dataset/calcado/2397.jpg  \n",
            "  inflating: dataset/calcado/2398.jpg  \n",
            "  inflating: dataset/calcado/2399.jpg  \n",
            "  inflating: dataset/calcado/2495.jpg  \n",
            "  inflating: dataset/calcado/2496.jpg  \n",
            "  inflating: dataset/calcado/2497.jpg  \n",
            "  inflating: dataset/calcado/2498.jpg  \n",
            "  inflating: dataset/calcado/2499.jpg  \n",
            "  inflating: dataset/calcado/2500.jpg  \n",
            "  inflating: dataset/calcado/2501.jpg  \n",
            "  inflating: dataset/calcado/2502.jpg  \n",
            "  inflating: dataset/calcado/2503.jpg  \n",
            "  inflating: dataset/calcado/2504.jpg  \n",
            "  inflating: dataset/calcado/2505.jpg  \n",
            "  inflating: dataset/calcado/2506.jpg  \n",
            "  inflating: dataset/calcado/2507.jpg  \n",
            "  inflating: dataset/calcado/2508.jpg  \n",
            "  inflating: dataset/calcado/2509.jpg  \n",
            "  inflating: dataset/calcado/2510.jpg  \n",
            "  inflating: dataset/calcado/2511.jpg  \n",
            "  inflating: dataset/calcado/2540.jpg  \n",
            "  inflating: dataset/calcado/25451.jpg  \n",
            "  inflating: dataset/calcado/25452.jpg  \n",
            "  inflating: dataset/calcado/25453.jpg  \n",
            "  inflating: dataset/calcado/25454.jpg  \n",
            "  inflating: dataset/calcado/25456.jpg  \n",
            "  inflating: dataset/calcado/25457.jpg  \n",
            "  inflating: dataset/calcado/25458.jpg  \n",
            "  inflating: dataset/calcado/25459.jpg  \n",
            "  inflating: dataset/calcado/25460.jpg  \n",
            "  inflating: dataset/calcado/25461.jpg  \n",
            "  inflating: dataset/calcado/25472.jpg  \n",
            "  inflating: dataset/calcado/25473.jpg  \n",
            "  inflating: dataset/oculos/16845.jpg  \n",
            "  inflating: dataset/oculos/16846.jpg  \n",
            "  inflating: dataset/oculos/16847.jpg  \n",
            "  inflating: dataset/oculos/16848.jpg  \n",
            "  inflating: dataset/oculos/16849.jpg  \n",
            "  inflating: dataset/oculos/16850.jpg  \n",
            "  inflating: dataset/oculos/16851.jpg  \n",
            "  inflating: dataset/oculos/16852.jpg  \n",
            "  inflating: dataset/oculos/16853.jpg  \n",
            "  inflating: dataset/oculos/16854.jpg  \n",
            "  inflating: dataset/oculos/16855.jpg  \n",
            "  inflating: dataset/oculos/16856.jpg  \n",
            "  inflating: dataset/oculos/16857.jpg  \n",
            "  inflating: dataset/oculos/16858.jpg  \n",
            "  inflating: dataset/oculos/16859.jpg  \n",
            "  inflating: dataset/oculos/16860.jpg  \n",
            "  inflating: dataset/oculos/16861.jpg  \n",
            "  inflating: dataset/oculos/16862.jpg  \n",
            "  inflating: dataset/oculos/16863.jpg  \n",
            "  inflating: dataset/oculos/16864.jpg  \n",
            "  inflating: dataset/oculos/16865.jpg  \n",
            "  inflating: dataset/oculos/16866.jpg  \n",
            "  inflating: dataset/oculos/16867.jpg  \n",
            "  inflating: dataset/oculos/16868.jpg  \n",
            "  inflating: dataset/oculos/16869.jpg  \n",
            "  inflating: dataset/oculos/16870.jpg  \n",
            "  inflating: dataset/oculos/16871.jpg  \n",
            "  inflating: dataset/oculos/16872.jpg  \n",
            "  inflating: dataset/oculos/16873.jpg  \n",
            "  inflating: dataset/oculos/16874.jpg  \n",
            "  inflating: dataset/oculos/16875.jpg  \n",
            "  inflating: dataset/oculos/16876.jpg  \n",
            "  inflating: dataset/oculos/16877.jpg  \n",
            "  inflating: dataset/oculos/16878.jpg  \n",
            "  inflating: dataset/oculos/16879.jpg  \n",
            "  inflating: dataset/oculos/16880.jpg  \n",
            "  inflating: dataset/oculos/16881.jpg  \n",
            "  inflating: dataset/oculos/16882.jpg  \n",
            "  inflating: dataset/oculos/16883.jpg  \n",
            "  inflating: dataset/oculos/16884.jpg  \n",
            "  inflating: dataset/oculos/16885.jpg  \n",
            "  inflating: dataset/oculos/16886.jpg  \n",
            "  inflating: dataset/oculos/16887.jpg  \n",
            "  inflating: dataset/oculos/16888.jpg  \n",
            "  inflating: dataset/oculos/16889.jpg  \n",
            "  inflating: dataset/oculos/16890.jpg  \n",
            "  inflating: dataset/oculos/16891.jpg  \n",
            "  inflating: dataset/oculos/16892.jpg  \n",
            "  inflating: dataset/oculos/16893.jpg  \n",
            "  inflating: dataset/oculos/16894.jpg  \n",
            "  inflating: dataset/oculos/16895.jpg  \n",
            "  inflating: dataset/oculos/16896.jpg  \n",
            "  inflating: dataset/oculos/16897.jpg  \n",
            "  inflating: dataset/oculos/16898.jpg  \n",
            "  inflating: dataset/oculos/16936.jpg  \n",
            "  inflating: dataset/oculos/16937.jpg  \n",
            "  inflating: dataset/oculos/16938.jpg  \n",
            "  inflating: dataset/oculos/16939.jpg  \n",
            "  inflating: dataset/oculos/16940.jpg  \n",
            "  inflating: dataset/oculos/16941.jpg  \n",
            "  inflating: dataset/relogio/25606.jpg  \n",
            "  inflating: dataset/relogio/25607.jpg  \n",
            "  inflating: dataset/relogio/25608.jpg  \n",
            "  inflating: dataset/relogio/25609.jpg  \n",
            "  inflating: dataset/relogio/25610.jpg  \n",
            "  inflating: dataset/relogio/25611.jpg  \n",
            "  inflating: dataset/relogio/25612.jpg  \n",
            "  inflating: dataset/relogio/25613.jpg  \n",
            "  inflating: dataset/relogio/25614.jpg  \n",
            "  inflating: dataset/relogio/25615.jpg  \n",
            "  inflating: dataset/relogio/25616.jpg  \n",
            "  inflating: dataset/relogio/25617.jpg  \n",
            "  inflating: dataset/relogio/25618.jpg  \n",
            "  inflating: dataset/relogio/25619.jpg  \n",
            "  inflating: dataset/relogio/25620.jpg  \n",
            "  inflating: dataset/relogio/25622.jpg  \n",
            "  inflating: dataset/relogio/25623.jpg  \n",
            "  inflating: dataset/relogio/25625.jpg  \n",
            "  inflating: dataset/relogio/25626.jpg  \n",
            "  inflating: dataset/relogio/25627.jpg  \n",
            "  inflating: dataset/relogio/25628.jpg  \n",
            "  inflating: dataset/relogio/25629.jpg  \n",
            "  inflating: dataset/relogio/25630.jpg  \n",
            "  inflating: dataset/relogio/25631.jpg  \n",
            "  inflating: dataset/relogio/25632.jpg  \n",
            "  inflating: dataset/relogio/25633.jpg  \n",
            "  inflating: dataset/relogio/25634.jpg  \n",
            "  inflating: dataset/relogio/25635.jpg  \n",
            "  inflating: dataset/relogio/25636.jpg  \n",
            "  inflating: dataset/relogio/25637.jpg  \n",
            "  inflating: dataset/relogio/25638.jpg  \n",
            "  inflating: dataset/relogio/25639.jpg  \n",
            "  inflating: dataset/relogio/25640.jpg  \n",
            "  inflating: dataset/relogio/25641.jpg  \n",
            "  inflating: dataset/relogio/25642.jpg  \n",
            "  inflating: dataset/relogio/25643.jpg  \n",
            "  inflating: dataset/relogio/25644.jpg  \n",
            "  inflating: dataset/relogio/25645.jpg  \n",
            "  inflating: dataset/relogio/25646.jpg  \n",
            "  inflating: dataset/relogio/25647.jpg  \n",
            "  inflating: dataset/relogio/25648.jpg  \n",
            "  inflating: dataset/relogio/25649.jpg  \n",
            "  inflating: dataset/relogio/25650.jpg  \n",
            "  inflating: dataset/relogio/25651.jpg  \n",
            "  inflating: dataset/relogio/25652.jpg  \n",
            "  inflating: dataset/relogio/25653.jpg  \n",
            "  inflating: dataset/relogio/25654.jpg  \n",
            "  inflating: dataset/relogio/25655.jpg  \n",
            "  inflating: dataset/relogio/25656.jpg  \n",
            "  inflating: dataset/relogio/25657.jpg  \n",
            "  inflating: dataset/relogio/25658.jpg  \n",
            "  inflating: dataset/relogio/25659.jpg  \n",
            "  inflating: dataset/relogio/25660.jpg  \n",
            "  inflating: dataset/relogio/25661.jpg  \n",
            "  inflating: dataset/relogio/25662.jpg  \n",
            "  inflating: dataset/relogio/25663.jpg  \n",
            "  inflating: dataset/relogio/25664.jpg  \n",
            "  inflating: dataset/relogio/25665.jpg  \n",
            "  inflating: dataset/relogio/25666.jpg  \n",
            "  inflating: dataset/relogio/25667.jpg  \n"
          ]
        }
      ]
    },
    {
      "cell_type": "code",
      "source": [
        "import tensorflow as tf\n",
        "from tensorflow.keras.preprocessing.image import ImageDataGenerator\n",
        "\n",
        "# Configurações\n",
        "batch_size = 32\n",
        "img_height = 224\n",
        "img_width = 224\n",
        "\n",
        "# Carregar os dados\n",
        "data_dir = \"dataset\"\n",
        "\n",
        "train_datagen = ImageDataGenerator(rescale=1./255, validation_split=0.2)\n",
        "\n",
        "train_ds = train_datagen.flow_from_directory(\n",
        "    data_dir,\n",
        "    target_size=(img_height, img_width),\n",
        "    batch_size=batch_size,\n",
        "    class_mode='categorical',\n",
        "    subset='training'\n",
        ")\n",
        "\n",
        "val_ds = train_datagen.flow_from_directory(\n",
        "    data_dir,\n",
        "    target_size=(img_height, img_width),\n",
        "    batch_size=batch_size,\n",
        "    class_mode='categorical',\n",
        "    subset='validation'\n",
        ")\n"
      ],
      "metadata": {
        "colab": {
          "base_uri": "https://localhost:8080/"
        },
        "id": "7akv8-tt5AHC",
        "outputId": "4873da16-cfb0-42f9-d0c6-37c2a29753c5"
      },
      "execution_count": 19,
      "outputs": [
        {
          "output_type": "stream",
          "name": "stdout",
          "text": [
            "Found 192 images belonging to 5 classes.\n",
            "Found 48 images belonging to 5 classes.\n"
          ]
        }
      ]
    },
    {
      "cell_type": "code",
      "source": [
        "from tensorflow.keras import layers, models\n",
        "\n",
        "img_height, img_width = 224, 224\n",
        "num_classes = 5\n",
        "\n",
        "# Construir o modelo\n",
        "model = models.Sequential([\n",
        "    layers.InputLayer(input_shape=(img_height, img_width, 3)),\n",
        "    layers.Conv2D(32, (3, 3), activation='relu'),\n",
        "    layers.MaxPooling2D((2, 2)),\n",
        "    layers.Conv2D(64, (3, 3), activation='relu'),\n",
        "    layers.MaxPooling2D((2, 2)),\n",
        "    layers.Conv2D(128, (3, 3), activation='relu'),\n",
        "    layers.MaxPooling2D((2, 2)),\n",
        "    layers.Flatten(),\n",
        "    layers.Dense(64, activation='relu'),\n",
        "    layers.Dense(num_classes, activation='softmax')\n",
        "])\n",
        "\n",
        "# Compilar o modelo\n",
        "model.compile(optimizer='adam',\n",
        "              loss='categorical_crossentropy',\n",
        "              metrics=['accuracy'])\n",
        "\n",
        "# Treinar o modelo\n",
        "history = model.fit(\n",
        "    train_ds,\n",
        "    validation_data=val_ds,\n",
        "    epochs=5\n",
        ")"
      ],
      "metadata": {
        "id": "DJYm2Bui57I8",
        "colab": {
          "base_uri": "https://localhost:8080/"
        },
        "outputId": "8ad61bc3-5d22-4a2e-e307-f6dce990dd15"
      },
      "execution_count": 52,
      "outputs": [
        {
          "output_type": "stream",
          "name": "stdout",
          "text": [
            "Epoch 1/5\n",
            "\u001b[1m6/6\u001b[0m \u001b[32m━━━━━━━━━━━━━━━━━━━━\u001b[0m\u001b[37m\u001b[0m \u001b[1m21s\u001b[0m 3s/step - accuracy: 0.2560 - loss: 2.2583 - val_accuracy: 0.2500 - val_loss: 1.4143\n",
            "Epoch 2/5\n",
            "\u001b[1m6/6\u001b[0m \u001b[32m━━━━━━━━━━━━━━━━━━━━\u001b[0m\u001b[37m\u001b[0m \u001b[1m22s\u001b[0m 4s/step - accuracy: 0.5022 - loss: 1.3141 - val_accuracy: 0.9375 - val_loss: 0.7836\n",
            "Epoch 3/5\n",
            "\u001b[1m6/6\u001b[0m \u001b[32m━━━━━━━━━━━━━━━━━━━━\u001b[0m\u001b[37m\u001b[0m \u001b[1m41s\u001b[0m 3s/step - accuracy: 0.7823 - loss: 0.6964 - val_accuracy: 0.9375 - val_loss: 0.3241\n",
            "Epoch 4/5\n",
            "\u001b[1m6/6\u001b[0m \u001b[32m━━━━━━━━━━━━━━━━━━━━\u001b[0m\u001b[37m\u001b[0m \u001b[1m19s\u001b[0m 3s/step - accuracy: 0.9002 - loss: 0.2742 - val_accuracy: 0.9583 - val_loss: 0.0863\n",
            "Epoch 5/5\n",
            "\u001b[1m6/6\u001b[0m \u001b[32m━━━━━━━━━━━━━━━━━━━━\u001b[0m\u001b[37m\u001b[0m \u001b[1m22s\u001b[0m 4s/step - accuracy: 0.9772 - loss: 0.0648 - val_accuracy: 1.0000 - val_loss: 0.0210\n"
          ]
        }
      ]
    },
    {
      "cell_type": "code",
      "source": [
        "results = model.evaluate(val_ds)\n",
        "print(f\"Validation Loss, Validation Accuracy: {results}\")\n"
      ],
      "metadata": {
        "colab": {
          "base_uri": "https://localhost:8080/"
        },
        "id": "ceoh-GUB4h5H",
        "outputId": "b689aaff-7e04-4bd4-8129-a5c5cb9e5660"
      },
      "execution_count": 57,
      "outputs": [
        {
          "output_type": "stream",
          "name": "stdout",
          "text": [
            "\u001b[1m2/2\u001b[0m \u001b[32m━━━━━━━━━━━━━━━━━━━━\u001b[0m\u001b[37m\u001b[0m \u001b[1m1s\u001b[0m 397ms/step - accuracy: 1.0000 - loss: 0.0189\n",
            "Validation Loss, Validation Accuracy: [0.020994670689105988, 1.0]\n"
          ]
        }
      ]
    },
    {
      "cell_type": "code",
      "source": [
        "print(\"Model Input Shape:\", model.input_shape)\n",
        "print(\"Model Layers:\", model.layers)"
      ],
      "metadata": {
        "colab": {
          "base_uri": "https://localhost:8080/"
        },
        "id": "sqaJ36cYv5Zb",
        "outputId": "062f6271-5b6c-4dd0-dab6-321a83999f60"
      },
      "execution_count": 87,
      "outputs": [
        {
          "output_type": "stream",
          "name": "stdout",
          "text": [
            "Model Input Shape: (None, 224, 224, 3)\n",
            "Model Layers: [<Conv2D name=conv2d_21, built=True>, <MaxPooling2D name=max_pooling2d_21, built=True>, <Conv2D name=conv2d_22, built=True>, <MaxPooling2D name=max_pooling2d_22, built=True>, <Conv2D name=conv2d_23, built=True>, <MaxPooling2D name=max_pooling2d_23, built=True>, <Flatten name=flatten_8, built=True>, <Dense name=dense_15, built=True>, <Dense name=dense_16, built=True>]\n"
          ]
        }
      ]
    },
    {
      "cell_type": "code",
      "source": [
        "\n",
        "if not os.path.exists('/content/ImgSim/'):\n",
        "    os.mkdir('/content/ImgSim/')\n",
        "\n",
        "feature_extractor = tf.keras.Model(inputs=model.inputs, outputs=model.layers[-3].output)\n",
        "feature_extractor.save('/content/ImgSim/bit_feature_extractor.keras')\n",
        "\n",
        "saved_model_path = '/content/ImgSim/bit_model'\n",
        "tf.saved_model.save(model, saved_model_path)"
      ],
      "metadata": {
        "id": "jPBMP3Sl0tk9"
      },
      "execution_count": 174,
      "outputs": []
    },
    {
      "cell_type": "code",
      "source": [
        "#hide\n",
        "import tensorflow as tf\n",
        "from pathlib import Path\n",
        "import numpy as np\n",
        "import os\n",
        "from tqdm import tqdm\n",
        "tqdm.pandas()"
      ],
      "metadata": {
        "id": "8GXdUFVE1Dxs"
      },
      "execution_count": 175,
      "outputs": []
    },
    {
      "cell_type": "code",
      "source": [
        "img_paths = []\n",
        "for path in Path('/content/dataset/').rglob('*.jpg'):\n",
        "  img_paths.append(path)\n",
        "np.random.shuffle(img_paths)"
      ],
      "metadata": {
        "id": "1eTnuAvZ1F4v"
      },
      "execution_count": 176,
      "outputs": []
    },
    {
      "cell_type": "code",
      "source": [
        "def load_img(path):\n",
        "  img = tf.io.read_file(path)\n",
        "  img = tf.io.decode_jpeg(img, channels=3)\n",
        "  img = tf.image.resize_with_pad(img, 224, 224)\n",
        "  img  = tf.image.convert_image_dtype(img, tf.float32)[tf.newaxis, ...]\n",
        "  return img"
      ],
      "metadata": {
        "id": "SmvuSW-G1Jcf"
      },
      "execution_count": 177,
      "outputs": []
    },
    {
      "cell_type": "code",
      "source": [
        "#hide-output\n",
        "TRANSFER_LEARNING_FLAG = 1\n",
        "if TRANSFER_LEARNING_FLAG:\n",
        "  module = tf.keras.models.load_model('bit_feature_extractor.keras')\n",
        "else:\n",
        "  module_handle = \"https://tfhub.dev/google/bit/s-r50x3/ilsvrc2012_classification/1\"\n",
        "  module = hub.load(module_handle)"
      ],
      "metadata": {
        "id": "p7oNrNhF1LO4"
      },
      "execution_count": 178,
      "outputs": []
    },
    {
      "cell_type": "code",
      "source": [
        "imgvec_path = '/content/img_vectors/'\n",
        "Path(imgvec_path).mkdir(parents=True, exist_ok=True)"
      ],
      "metadata": {
        "id": "-nMw5Fs71R1j"
      },
      "execution_count": 179,
      "outputs": []
    },
    {
      "cell_type": "code",
      "source": [
        "for filename in tqdm(img_paths[:5000]):\n",
        "    img = load_img(str(filename))\n",
        "    features = module(img)\n",
        "    feature_set = np.squeeze(features)\n",
        "    outfile_name = os.path.basename(filename).split('.')[0] + \".npz\"\n",
        "    out_path_file = os.path.join(imgvec_path, outfile_name)\n",
        "    np.savetxt(out_path_file, feature_set, delimiter=',')"
      ],
      "metadata": {
        "colab": {
          "base_uri": "https://localhost:8080/"
        },
        "id": "WtoKsFMa1VQr",
        "outputId": "85e71948-c627-4973-d1fe-932753698d9a"
      },
      "execution_count": 180,
      "outputs": [
        {
          "output_type": "stream",
          "name": "stderr",
          "text": [
            "100%|██████████| 240/240 [01:06<00:00,  3.64it/s]\n"
          ]
        }
      ]
    },
    {
      "cell_type": "code",
      "source": [
        "import os\n",
        "import numpy as np\n",
        "from tqdm import tqdm\n",
        "\n",
        "# Função para redimensionar o vetor para o tamanho desejado\n",
        "def resize_vector(vector, size=256):\n",
        "    if len(vector) > size:\n",
        "        return vector[:size]  # Truncate if vector is too long\n",
        "    elif len(vector) < size:\n",
        "        return np.pad(vector, (0, size - len(vector)), 'constant')  # Pad with zeros if vector is too short\n",
        "    return vector\n"
      ],
      "metadata": {
        "id": "6xdV8rPv3q_a"
      },
      "execution_count": 181,
      "outputs": []
    },
    {
      "cell_type": "code",
      "source": [
        "# Caminho do diretório que contém os arquivos .npz\n",
        "input_dir = \"/content/img_vectors/\"\n",
        "output_dir = \"/content/img_vectors_redux/\"\n",
        "\n",
        "if not os.path.exists(output_dir):\n",
        "    os.makedirs(output_dir)\n",
        "\n",
        "# Lista de arquivos .npz no diretório\n",
        "npz_files = [f for f in os.listdir(input_dir) if f.endswith('.npz')]\n",
        "\n",
        "for npz_file in tqdm(npz_files):\n",
        "    # Caminho completo do arquivo de entrada e saída\n",
        "    input_path = os.path.join(input_dir, npz_file)\n",
        "    output_path = os.path.join(output_dir, npz_file)\n",
        "\n",
        "    # Carregar o vetor do arquivo .npz\n",
        "    vector = np.loadtxt(input_path, delimiter=',')\n",
        "\n",
        "    # Redimensionar o vetor para o comprimento desejado\n",
        "    resized_vector = resize_vector(vector, size=256)\n",
        "\n",
        "    # Salvar o vetor redimensionado no arquivo .npz\n",
        "    np.savetxt(output_path, resized_vector, delimiter=',')\n",
        "\n",
        "print(\"Todos os vetores foram redimensionados com sucesso!\")\n"
      ],
      "metadata": {
        "colab": {
          "base_uri": "https://localhost:8080/"
        },
        "id": "DhEnROGl3m6a",
        "outputId": "500b15c8-09bf-44cb-de02-ef1ec4b7f9a8"
      },
      "execution_count": 182,
      "outputs": [
        {
          "output_type": "stream",
          "name": "stderr",
          "text": [
            "100%|██████████| 240/240 [00:07<00:00, 33.44it/s]"
          ]
        },
        {
          "output_type": "stream",
          "name": "stdout",
          "text": [
            "Todos os vetores foram redimensionados com sucesso!\n"
          ]
        },
        {
          "output_type": "stream",
          "name": "stderr",
          "text": [
            "\n"
          ]
        }
      ]
    },
    {
      "cell_type": "code",
      "source": [
        "#hide\n",
        "import pandas as pd\n",
        "import glob\n",
        "import os\n",
        "import numpy as np\n",
        "from tqdm import tqdm\n",
        "tqdm.pandas()\n",
        "!pip install -q annoy\n",
        "import json\n",
        "from annoy import AnnoyIndex\n",
        "from scipy import spatial\n",
        "import pickle\n",
        "from IPython.display import Image as dispImage"
      ],
      "metadata": {
        "id": "AFCQFoSn1Y8W"
      },
      "execution_count": 183,
      "outputs": []
    },
    {
      "cell_type": "code",
      "source": [
        "test_img = '/content/dataset/oculos/16848.jpg'\n",
        "dispImage(test_img)"
      ],
      "metadata": {
        "colab": {
          "base_uri": "https://localhost:8080/",
          "height": 97
        },
        "id": "xTP0ojpX1arP",
        "outputId": "9f9bc6e3-3638-49df-e738-7fda3942fea4"
      },
      "execution_count": 184,
      "outputs": [
        {
          "output_type": "execute_result",
          "data": {
            "image/jpeg": "[encoded data removed]",
            "text/plain": [
              "<IPython.core.display.Image object>"
            ]
          },
          "metadata": {},
          "execution_count": 184
        }
      ]
    },
    {
      "cell_type": "code",
      "source": [
        "import pandas as pd\n",
        "\n",
        "data = {\n",
        "    'id': [1, 2, 3, 4, 5],\n",
        "    'masterCategory': ['Bolsa', 'Calcado', 'Oculos', 'Relogio', 'Nenhum'],\n",
        "}\n",
        "\n",
        "df = pd.DataFrame(data)\n",
        "df_selected = df[['id', 'masterCategory']]\n",
        "df_selected.to_csv('/content/styles.csv', index=False, columns=['id', 'masterCategory'])\n"
      ],
      "metadata": {
        "id": "XFhdadqQ2WFI"
      },
      "execution_count": 185,
      "outputs": []
    },
    {
      "cell_type": "code",
      "source": [
        "#hide-output\n",
        "styles = pd.read_csv('/content/styles.csv')\n",
        "styles['id'] = styles['id'].astype('str')\n",
        "styles.to_csv('/content/styles.csv', index=False)"
      ],
      "metadata": {
        "id": "mzvh-GLI1w8G"
      },
      "execution_count": 186,
      "outputs": []
    },
    {
      "cell_type": "code",
      "source": [
        "def match_id(fname):\n",
        "  return styles.index[styles.id==fname].values[0]"
      ],
      "metadata": {
        "id": "gIDvdODq2wJv"
      },
      "execution_count": 187,
      "outputs": []
    },
    {
      "cell_type": "code",
      "source": [
        "# Defining data structures as empty dict\n",
        "file_index_to_file_name = {}\n",
        "file_index_to_file_vector = {}\n",
        "file_index_to_product_id = {}\n",
        "\n",
        "# Configuring annoy parameters\n",
        "dims = 256\n",
        "n_nearest_neighbors = 20\n",
        "trees = 10000\n",
        "\n",
        "# Reads all file names which stores feature vectors\n",
        "allfiles = glob.glob('/content/img_vectors_redux/*.npz')\n",
        "\n",
        "t = AnnoyIndex(dims, metric='angular')"
      ],
      "metadata": {
        "id": "eQ_BnHNE2yzn"
      },
      "execution_count": 188,
      "outputs": []
    },
    {
      "cell_type": "code",
      "source": [
        "print(allfiles)"
      ],
      "metadata": {
        "colab": {
          "base_uri": "https://localhost:8080/"
        },
        "id": "gzGpca727bk-",
        "outputId": "240f9f5d-c2fa-40fb-9d4d-a3a23bd9c575"
      },
      "execution_count": 189,
      "outputs": [
        {
          "output_type": "stream",
          "name": "stdout",
          "text": [
            "['/content/img_vectors_redux/16875.npz', '/content/img_vectors_redux/16896.npz', '/content/img_vectors_redux/16882.npz', '/content/img_vectors_redux/20505.npz', '/content/img_vectors_redux/25615.npz', '/content/img_vectors_redux/25634.npz', '/content/img_vectors_redux/20621.npz', '/content/img_vectors_redux/25616.npz', '/content/img_vectors_redux/25655.npz', '/content/img_vectors_redux/2398.npz', '/content/img_vectors_redux/25629.npz', '/content/img_vectors_redux/16939.npz', '/content/img_vectors_redux/2378.npz', '/content/img_vectors_redux/25656.npz', '/content/img_vectors_redux/2496.npz', '/content/img_vectors_redux/25652.npz', '/content/img_vectors_redux/25607.npz', '/content/img_vectors_redux/16861.npz', '/content/img_vectors_redux/16846.npz', '/content/img_vectors_redux/20385.npz', '/content/img_vectors_redux/20524.npz', '/content/img_vectors_redux/20397.npz', '/content/img_vectors_redux/25654.npz', '/content/img_vectors_redux/16898.npz', '/content/img_vectors_redux/16852.npz', '/content/img_vectors_redux/16891.npz', '/content/img_vectors_redux/16938.npz', '/content/img_vectors_redux/16863.npz', '/content/img_vectors_redux/16880.npz', '/content/img_vectors_redux/16887.npz', '/content/img_vectors_redux/16893.npz', '/content/img_vectors_redux/25630.npz', '/content/img_vectors_redux/20389.npz', '/content/img_vectors_redux/2389.npz', '/content/img_vectors_redux/2384.npz', '/content/img_vectors_redux/20568.npz', '/content/img_vectors_redux/2502.npz', '/content/img_vectors_redux/20491.npz', '/content/img_vectors_redux/25646.npz', '/content/img_vectors_redux/25657.npz', '/content/img_vectors_redux/2499.npz', '/content/img_vectors_redux/20493.npz', '/content/img_vectors_redux/25610.npz', '/content/img_vectors_redux/20567.npz', '/content/img_vectors_redux/16895.npz', '/content/img_vectors_redux/25658.npz', '/content/img_vectors_redux/25461.npz', '/content/img_vectors_redux/20610.npz', '/content/img_vectors_redux/25454.npz', '/content/img_vectors_redux/20523.npz', '/content/img_vectors_redux/20615.npz', '/content/img_vectors_redux/20501.npz', '/content/img_vectors_redux/16873.npz', '/content/img_vectors_redux/2376.npz', '/content/img_vectors_redux/16862.npz', '/content/img_vectors_redux/16845.npz', '/content/img_vectors_redux/2500.npz', '/content/img_vectors_redux/25636.npz', '/content/img_vectors_redux/25622.npz', '/content/img_vectors_redux/25457.npz', '/content/img_vectors_redux/25662.npz', '/content/img_vectors_redux/25460.npz', '/content/img_vectors_redux/20421.npz', '/content/img_vectors_redux/20489.npz', '/content/img_vectors_redux/25637.npz', '/content/img_vectors_redux/25611.npz', '/content/img_vectors_redux/25627.npz', '/content/img_vectors_redux/16858.npz', '/content/img_vectors_redux/25667.npz', '/content/img_vectors_redux/16870.npz', '/content/img_vectors_redux/16860.npz', '/content/img_vectors_redux/2504.npz', '/content/img_vectors_redux/16877.npz', '/content/img_vectors_redux/2399.npz', '/content/img_vectors_redux/2509.npz', '/content/img_vectors_redux/25608.npz', '/content/img_vectors_redux/25453.npz', '/content/img_vectors_redux/16884.npz', '/content/img_vectors_redux/16936.npz', '/content/img_vectors_redux/20517.npz', '/content/img_vectors_redux/2505.npz', '/content/img_vectors_redux/16859.npz', '/content/img_vectors_redux/2391.npz', '/content/img_vectors_redux/25628.npz', '/content/img_vectors_redux/2510.npz', '/content/img_vectors_redux/25617.npz', '/content/img_vectors_redux/2385.npz', '/content/img_vectors_redux/25451.npz', '/content/img_vectors_redux/2377.npz', '/content/img_vectors_redux/20619.npz', '/content/img_vectors_redux/20492.npz', '/content/img_vectors_redux/25644.npz', '/content/img_vectors_redux/16857.npz', '/content/img_vectors_redux/16864.npz', '/content/img_vectors_redux/2370.npz', '/content/img_vectors_redux/16869.npz', '/content/img_vectors_redux/20506.npz', '/content/img_vectors_redux/16881.npz', '/content/img_vectors_redux/20398.npz', '/content/img_vectors_redux/2371.npz', '/content/img_vectors_redux/25609.npz', '/content/img_vectors_redux/2497.npz', '/content/img_vectors_redux/25663.npz', '/content/img_vectors_redux/20581.npz', '/content/img_vectors_redux/16856.npz', '/content/img_vectors_redux/2367.npz', '/content/img_vectors_redux/2397.npz', '/content/img_vectors_redux/2374.npz', '/content/img_vectors_redux/20612.npz', '/content/img_vectors_redux/16878.npz', '/content/img_vectors_redux/25635.npz', '/content/img_vectors_redux/16850.npz', '/content/img_vectors_redux/16854.npz', '/content/img_vectors_redux/16941.npz', '/content/img_vectors_redux/25612.npz', '/content/img_vectors_redux/2381.npz', '/content/img_vectors_redux/16890.npz', '/content/img_vectors_redux/16867.npz', '/content/img_vectors_redux/20599.npz', '/content/img_vectors_redux/2511.npz', '/content/img_vectors_redux/20620.npz', '/content/img_vectors_redux/25642.npz', '/content/img_vectors_redux/20386.npz', '/content/img_vectors_redux/2503.npz', '/content/img_vectors_redux/20452.npz', '/content/img_vectors_redux/20508.npz', '/content/img_vectors_redux/16855.npz', '/content/img_vectors_redux/25459.npz', '/content/img_vectors_redux/25638.npz', '/content/img_vectors_redux/20419.npz', '/content/img_vectors_redux/25623.npz', '/content/img_vectors_redux/20388.npz', '/content/img_vectors_redux/16885.npz', '/content/img_vectors_redux/25651.npz', '/content/img_vectors_redux/2387.npz', '/content/img_vectors_redux/16883.npz', '/content/img_vectors_redux/20410.npz', '/content/img_vectors_redux/16871.npz', '/content/img_vectors_redux/25660.npz', '/content/img_vectors_redux/25650.npz', '/content/img_vectors_redux/25633.npz', '/content/img_vectors_redux/25643.npz', '/content/img_vectors_redux/20512.npz', '/content/img_vectors_redux/2382.npz', '/content/img_vectors_redux/2368.npz', '/content/img_vectors_redux/25606.npz', '/content/img_vectors_redux/2375.npz', '/content/img_vectors_redux/25472.npz', '/content/img_vectors_redux/25452.npz', '/content/img_vectors_redux/16848.npz', '/content/img_vectors_redux/20566.npz', '/content/img_vectors_redux/20557.npz', '/content/img_vectors_redux/25614.npz', '/content/img_vectors_redux/20629.npz', '/content/img_vectors_redux/20611.npz', '/content/img_vectors_redux/2507.npz', '/content/img_vectors_redux/2394.npz', '/content/img_vectors_redux/25645.npz', '/content/img_vectors_redux/16879.npz', '/content/img_vectors_redux/25665.npz', '/content/img_vectors_redux/16865.npz', '/content/img_vectors_redux/20509.npz', '/content/img_vectors_redux/16874.npz', '/content/img_vectors_redux/2498.npz', '/content/img_vectors_redux/20399.npz', '/content/img_vectors_redux/20601.npz', '/content/img_vectors_redux/20518.npz', '/content/img_vectors_redux/25640.npz', '/content/img_vectors_redux/25661.npz', '/content/img_vectors_redux/16940.npz', '/content/img_vectors_redux/25456.npz', '/content/img_vectors_redux/20600.npz', '/content/img_vectors_redux/16897.npz', '/content/img_vectors_redux/20490.npz', '/content/img_vectors_redux/2396.npz', '/content/img_vectors_redux/25648.npz', '/content/img_vectors_redux/2380.npz', '/content/img_vectors_redux/25649.npz', '/content/img_vectors_redux/20613.npz', '/content/img_vectors_redux/25458.npz', '/content/img_vectors_redux/16868.npz', '/content/img_vectors_redux/16894.npz', '/content/img_vectors_redux/20602.npz', '/content/img_vectors_redux/2390.npz', '/content/img_vectors_redux/20521.npz', '/content/img_vectors_redux/25641.npz', '/content/img_vectors_redux/16847.npz', '/content/img_vectors_redux/20616.npz', '/content/img_vectors_redux/16849.npz', '/content/img_vectors_redux/2379.npz', '/content/img_vectors_redux/16851.npz', '/content/img_vectors_redux/16853.npz', '/content/img_vectors_redux/25626.npz', '/content/img_vectors_redux/25631.npz', '/content/img_vectors_redux/20394.npz', '/content/img_vectors_redux/2373.npz', '/content/img_vectors_redux/20488.npz', '/content/img_vectors_redux/20528.npz', '/content/img_vectors_redux/20479.npz', '/content/img_vectors_redux/16876.npz', '/content/img_vectors_redux/25632.npz', '/content/img_vectors_redux/25666.npz', '/content/img_vectors_redux/20487.npz', '/content/img_vectors_redux/25647.npz', '/content/img_vectors_redux/2369.npz', '/content/img_vectors_redux/2501.npz', '/content/img_vectors_redux/20498.npz', '/content/img_vectors_redux/16888.npz', '/content/img_vectors_redux/25473.npz', '/content/img_vectors_redux/2506.npz', '/content/img_vectors_redux/20507.npz', '/content/img_vectors_redux/2495.npz', '/content/img_vectors_redux/16886.npz', '/content/img_vectors_redux/20614.npz', '/content/img_vectors_redux/16937.npz', '/content/img_vectors_redux/20516.npz', '/content/img_vectors_redux/20522.npz', '/content/img_vectors_redux/20393.npz', '/content/img_vectors_redux/25659.npz', '/content/img_vectors_redux/25618.npz', '/content/img_vectors_redux/25620.npz', '/content/img_vectors_redux/25619.npz', '/content/img_vectors_redux/16866.npz', '/content/img_vectors_redux/25639.npz', '/content/img_vectors_redux/16892.npz', '/content/img_vectors_redux/2540.npz', '/content/img_vectors_redux/2393.npz', '/content/img_vectors_redux/2372.npz', '/content/img_vectors_redux/20387.npz', '/content/img_vectors_redux/16889.npz', '/content/img_vectors_redux/25613.npz', '/content/img_vectors_redux/2508.npz', '/content/img_vectors_redux/20511.npz', '/content/img_vectors_redux/25664.npz', '/content/img_vectors_redux/25653.npz', '/content/img_vectors_redux/25625.npz', '/content/img_vectors_redux/2383.npz', '/content/img_vectors_redux/20420.npz', '/content/img_vectors_redux/16872.npz', '/content/img_vectors_redux/2388.npz']\n"
          ]
        }
      ]
    },
    {
      "cell_type": "code",
      "source": [
        "for findex, fname in tqdm(enumerate(allfiles)):\n",
        "  print(findex)\n",
        "  file_vector = np.loadtxt(fname)\n",
        "  file_name = os.path.basename(fname).split('.')[0]\n",
        "  file_index_to_file_name[findex] = file_name\n",
        "  file_index_to_file_vector[findex] = file_vector\n",
        "  try:\n",
        "    file_index_to_product_id[findex] = match_id(file_name)\n",
        "  except IndexError:\n",
        "    pass\n",
        "  t.add_item(findex, file_vector)\n",
        "\n",
        "print(file_index_to_product_id)\n",
        ""
      ],
      "metadata": {
        "colab": {
          "base_uri": "https://localhost:8080/"
        },
        "id": "0OYiZm2p21ah",
        "outputId": "34302552-335b-4bc7-86f6-b51653d03283"
      },
      "execution_count": 190,
      "outputs": [
        {
          "output_type": "stream",
          "name": "stderr",
          "text": [
            "86it [00:00, 853.43it/s]"
          ]
        },
        {
          "output_type": "stream",
          "name": "stdout",
          "text": [
            "0\n",
            "1\n",
            "2\n",
            "3\n",
            "4\n",
            "5\n",
            "6\n",
            "7\n",
            "8\n",
            "9\n",
            "10\n",
            "11\n",
            "12\n",
            "13\n",
            "14\n",
            "15\n",
            "16\n",
            "17\n",
            "18\n",
            "19\n",
            "20\n",
            "21\n",
            "22\n",
            "23\n",
            "24\n",
            "25\n",
            "26\n",
            "27\n",
            "28\n",
            "29\n",
            "30\n",
            "31\n",
            "32\n",
            "33\n",
            "34\n",
            "35\n",
            "36\n",
            "37\n",
            "38\n",
            "39\n",
            "40\n",
            "41\n",
            "42\n",
            "43\n",
            "44\n",
            "45\n",
            "46\n",
            "47\n",
            "48\n",
            "49\n",
            "50\n",
            "51\n",
            "52\n",
            "53\n",
            "54\n",
            "55\n",
            "56\n",
            "57\n",
            "58\n",
            "59\n",
            "60\n",
            "61\n",
            "62\n",
            "63\n",
            "64\n",
            "65\n",
            "66\n",
            "67\n",
            "68\n",
            "69\n",
            "70\n",
            "71\n",
            "72\n",
            "73\n",
            "74\n",
            "75\n",
            "76\n",
            "77\n",
            "78\n",
            "79\n",
            "80\n",
            "81\n",
            "82\n",
            "83\n",
            "84\n",
            "85\n",
            "86\n",
            "87\n",
            "88\n",
            "89\n",
            "90\n",
            "91\n",
            "92\n",
            "93\n",
            "94\n",
            "95\n",
            "96\n",
            "97\n",
            "98\n",
            "99\n",
            "100\n",
            "101\n",
            "102\n",
            "103\n",
            "104\n",
            "105\n",
            "106\n",
            "107\n",
            "108\n",
            "109\n",
            "110\n",
            "111\n",
            "112\n",
            "113\n",
            "114\n",
            "115\n",
            "116\n",
            "117\n",
            "118\n",
            "119\n",
            "120\n",
            "121\n",
            "122\n",
            "123\n",
            "124\n",
            "125\n",
            "126\n",
            "127\n",
            "128\n",
            "129\n",
            "130\n",
            "131\n",
            "132\n",
            "133\n",
            "134\n",
            "135\n",
            "136\n",
            "137\n",
            "138\n",
            "139\n",
            "140\n",
            "141\n",
            "142\n",
            "143\n",
            "144\n",
            "145\n",
            "146\n",
            "147\n",
            "148\n",
            "149\n",
            "150\n",
            "151\n",
            "152\n",
            "153\n",
            "154\n",
            "155\n",
            "156\n",
            "157\n",
            "158\n",
            "159\n",
            "160\n",
            "161\n",
            "162\n",
            "163\n",
            "164\n",
            "165\n",
            "166\n",
            "167\n",
            "168\n",
            "169\n",
            "170\n",
            "171\n",
            "172\n",
            "173\n",
            "174\n"
          ]
        },
        {
          "output_type": "stream",
          "name": "stderr",
          "text": [
            "240it [00:00, 871.68it/s]"
          ]
        },
        {
          "output_type": "stream",
          "name": "stdout",
          "text": [
            "175\n",
            "176\n",
            "177\n",
            "178\n",
            "179\n",
            "180\n",
            "181\n",
            "182\n",
            "183\n",
            "184\n",
            "185\n",
            "186\n",
            "187\n",
            "188\n",
            "189\n",
            "190\n",
            "191\n",
            "192\n",
            "193\n",
            "194\n",
            "195\n",
            "196\n",
            "197\n",
            "198\n",
            "199\n",
            "200\n",
            "201\n",
            "202\n",
            "203\n",
            "204\n",
            "205\n",
            "206\n",
            "207\n",
            "208\n",
            "209\n",
            "210\n",
            "211\n",
            "212\n",
            "213\n",
            "214\n",
            "215\n",
            "216\n",
            "217\n",
            "218\n",
            "219\n",
            "220\n",
            "221\n",
            "222\n",
            "223\n",
            "224\n",
            "225\n",
            "226\n",
            "227\n",
            "228\n",
            "229\n",
            "230\n",
            "231\n",
            "232\n",
            "233\n",
            "234\n",
            "235\n",
            "236\n",
            "237\n",
            "238\n",
            "239\n",
            "{}\n"
          ]
        },
        {
          "output_type": "stream",
          "name": "stderr",
          "text": [
            "\n"
          ]
        }
      ]
    },
    {
      "cell_type": "code",
      "source": [
        "#hide-output\n",
        "t.build(trees)\n",
        "t.save('t.ann')"
      ],
      "metadata": {
        "colab": {
          "base_uri": "https://localhost:8080/"
        },
        "id": "_woFl2QT35lV",
        "outputId": "80617126-2061-4b78-c502-e5d043bcf368"
      },
      "execution_count": 191,
      "outputs": [
        {
          "output_type": "execute_result",
          "data": {
            "text/plain": [
              "True"
            ]
          },
          "metadata": {},
          "execution_count": 191
        }
      ]
    },
    {
      "cell_type": "code",
      "source": [
        "file_path = '/content/ImgSim/'"
      ],
      "metadata": {
        "id": "XuTSS83E3_Gk"
      },
      "execution_count": 192,
      "outputs": []
    },
    {
      "cell_type": "code",
      "source": [
        "t.save(file_path+'indexer.ann')\n",
        "pickle.dump(file_index_to_file_name, open(file_path+\"file_index_to_file_name.p\", \"wb\"))\n",
        "pickle.dump(file_index_to_file_vector, open(file_path+\"file_index_to_file_vector.p\", \"wb\"))\n",
        "pickle.dump(file_index_to_product_id, open(file_path+\"file_index_to_product_id.p\", \"wb\"))"
      ],
      "metadata": {
        "id": "R8IwRHQ24P5M"
      },
      "execution_count": 193,
      "outputs": []
    },
    {
      "cell_type": "code",
      "source": [
        "#hide\n",
        "from PIL import Image\n",
        "import matplotlib.image as mpimg"
      ],
      "metadata": {
        "id": "zCmhuUJ74S6z"
      },
      "execution_count": 194,
      "outputs": []
    },
    {
      "cell_type": "code",
      "source": [
        "import numpy as np\n",
        "img_addr = ''\n",
        "\n",
        "test_img = 'tenis.jpg'\n",
        "topK = 4\n",
        "\n",
        "test_vec = np.squeeze(module(load_img(test_img)))\n",
        "\n",
        "basewidth = 256\n",
        "img = Image.open(test_img)\n",
        "wpercent = (basewidth/float(img.size[0]))\n",
        "hsize = 256\n",
        "img = img.resize((basewidth,hsize), Image.LANCZOS)\n",
        "img"
      ],
      "metadata": {
        "colab": {
          "base_uri": "https://localhost:8080/",
          "height": 273
        },
        "id": "wsBf15t84Uaj",
        "outputId": "aa589ff9-e910-4d2d-ecf5-a200b382de6e"
      },
      "execution_count": 214,
      "outputs": [
        {
          "output_type": "execute_result",
          "data": {
            "text/plain": [
              "<PIL.Image.Image image mode=RGB size=256x256>"
            ],
            "image/png": "[encoded data removed]",
            "image/jpeg": "[encoded data removed]"
          },
          "metadata": {},
          "execution_count": 214
        }
      ]
    },
    {
      "cell_type": "code",
      "source": [
        "import numpy as np\n",
        "\n",
        "# Função para redimensionar o vetor para o tamanho desejado\n",
        "def resize_vector(vector, size=256):\n",
        "    if len(vector) > size:\n",
        "        return vector[:size]  # Truncate if vector is too long\n",
        "    elif len(vector) < size:\n",
        "        return np.pad(vector, (0, size - len(vector)), 'constant')  # Pad with zeros if vector is too short\n",
        "    return vector\n",
        "\n",
        "# Redimensionar o vetor test_vec para 256 elementos\n",
        "test_vec = resize_vector(test_vec, size=256)\n"
      ],
      "metadata": {
        "id": "IZHd1RYg51as"
      },
      "execution_count": 215,
      "outputs": []
    },
    {
      "cell_type": "code",
      "source": [
        "print(file_index_to_file_name)"
      ],
      "metadata": {
        "colab": {
          "base_uri": "https://localhost:8080/"
        },
        "id": "P2-NAuhN_Xuj",
        "outputId": "b06b092a-09a9-4f19-d4c7-f18b7184101c"
      },
      "execution_count": 225,
      "outputs": [
        {
          "output_type": "stream",
          "name": "stdout",
          "text": [
            "{0: '16875', 1: '16896', 2: '16882', 3: '20505', 4: '25615', 5: '25634', 6: '20621', 7: '25616', 8: '25655', 9: '2398', 10: '25629', 11: '16939', 12: '2378', 13: '25656', 14: '2496', 15: '25652', 16: '25607', 17: '16861', 18: '16846', 19: '20385', 20: '20524', 21: '20397', 22: '25654', 23: '16898', 24: '16852', 25: '16891', 26: '16938', 27: '16863', 28: '16880', 29: '16887', 30: '16893', 31: '25630', 32: '20389', 33: '2389', 34: '2384', 35: '20568', 36: '2502', 37: '20491', 38: '25646', 39: '25657', 40: '2499', 41: '20493', 42: '25610', 43: '20567', 44: '16895', 45: '25658', 46: '25461', 47: '20610', 48: '25454', 49: '20523', 50: '20615', 51: '20501', 52: '16873', 53: '2376', 54: '16862', 55: '16845', 56: '2500', 57: '25636', 58: '25622', 59: '25457', 60: '25662', 61: '25460', 62: '20421', 63: '20489', 64: '25637', 65: '25611', 66: '25627', 67: '16858', 68: '25667', 69: '16870', 70: '16860', 71: '2504', 72: '16877', 73: '2399', 74: '2509', 75: '25608', 76: '25453', 77: '16884', 78: '16936', 79: '20517', 80: '2505', 81: '16859', 82: '2391', 83: '25628', 84: '2510', 85: '25617', 86: '2385', 87: '25451', 88: '2377', 89: '20619', 90: '20492', 91: '25644', 92: '16857', 93: '16864', 94: '2370', 95: '16869', 96: '20506', 97: '16881', 98: '20398', 99: '2371', 100: '25609', 101: '2497', 102: '25663', 103: '20581', 104: '16856', 105: '2367', 106: '2397', 107: '2374', 108: '20612', 109: '16878', 110: '25635', 111: '16850', 112: '16854', 113: '16941', 114: '25612', 115: '2381', 116: '16890', 117: '16867', 118: '20599', 119: '2511', 120: '20620', 121: '25642', 122: '20386', 123: '2503', 124: '20452', 125: '20508', 126: '16855', 127: '25459', 128: '25638', 129: '20419', 130: '25623', 131: '20388', 132: '16885', 133: '25651', 134: '2387', 135: '16883', 136: '20410', 137: '16871', 138: '25660', 139: '25650', 140: '25633', 141: '25643', 142: '20512', 143: '2382', 144: '2368', 145: '25606', 146: '2375', 147: '25472', 148: '25452', 149: '16848', 150: '20566', 151: '20557', 152: '25614', 153: '20629', 154: '20611', 155: '2507', 156: '2394', 157: '25645', 158: '16879', 159: '25665', 160: '16865', 161: '20509', 162: '16874', 163: '2498', 164: '20399', 165: '20601', 166: '20518', 167: '25640', 168: '25661', 169: '16940', 170: '25456', 171: '20600', 172: '16897', 173: '20490', 174: '2396', 175: '25648', 176: '2380', 177: '25649', 178: '20613', 179: '25458', 180: '16868', 181: '16894', 182: '20602', 183: '2390', 184: '20521', 185: '25641', 186: '16847', 187: '20616', 188: '16849', 189: '2379', 190: '16851', 191: '16853', 192: '25626', 193: '25631', 194: '20394', 195: '2373', 196: '20488', 197: '20528', 198: '20479', 199: '16876', 200: '25632', 201: '25666', 202: '20487', 203: '25647', 204: '2369', 205: '2501', 206: '20498', 207: '16888', 208: '25473', 209: '2506', 210: '20507', 211: '2495', 212: '16886', 213: '20614', 214: '16937', 215: '20516', 216: '20522', 217: '20393', 218: '25659', 219: '25618', 220: '25620', 221: '25619', 222: '16866', 223: '25639', 224: '16892', 225: '2540', 226: '2393', 227: '2372', 228: '20387', 229: '16889', 230: '25613', 231: '2508', 232: '20511', 233: '25664', 234: '25653', 235: '25625', 236: '2383', 237: '20420', 238: '16872', 239: '2388'}\n"
          ]
        }
      ]
    },
    {
      "cell_type": "code",
      "source": [
        "path_dict = {}\n",
        "for path in Path('/content/dataset').rglob('*.jpg'):\n",
        "  path_dict[path.name] = path\n",
        "\n",
        "nns = t.get_nns_by_vector(test_vec, n=topK)\n",
        "plt.figure(figsize=(20, 10))\n",
        "for i in range(topK):\n",
        "  x = file_index_to_file_name[nns[i]]\n",
        "  x = path_dict[x+'.jpg']\n",
        "  title = '\\n'.join([str(j) for j in list(styles.loc[y].values[-5:])])\n",
        "  plt.subplot(1, topK, i+1)\n",
        "  plt.title(title)\n",
        "  plt.imshow(mpimg.imread(x))\n",
        "  plt.axis('off')\n",
        "plt.tight_layout()"
      ],
      "metadata": {
        "colab": {
          "base_uri": "https://localhost:8080/",
          "height": 350
        },
        "id": "8d_e6B3F406G",
        "outputId": "6a83e40a-9043-4a44-a273-5e411ceede0c"
      },
      "execution_count": 227,
      "outputs": [
        {
          "output_type": "display_data",
          "data": {
            "text/plain": [
              "<Figure size 2000x1000 with 4 Axes>"
            ],
            "image/png": "[encoded data removed]"
          },
          "metadata": {}
        }
      ]
    }
  ]
}